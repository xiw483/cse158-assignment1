{
 "cells": [
  {
   "cell_type": "code",
   "execution_count": 1280,
   "metadata": {},
   "outputs": [],
   "source": [
    "import pandas as pd\n",
    "import numpy as np\n",
    "import random\n",
    "import yaml\n",
    "import gzip\n",
    "import string\n",
    "from collections import defaultdict\n",
    "from IPython.display import clear_output\n",
    "from sklearn.neighbors import NearestNeighbors\n",
    "from sklearn.model_selection import train_test_split\n",
    "from sklearn.linear_model import LogisticRegression\n",
    "from sklearn.metrics.pairwise import cosine_similarity\n",
    "from sklearn.preprocessing import scale\n",
    "from sklearn.feature_extraction.text import TfidfVectorizer, CountVectorizer, TfidfTransformer\n",
    "from sklearn.feature_selection import chi2\n",
    "from sklearn.naive_bayes import MultinomialNB\n",
    "from sklearn.ensemble import RandomForestClassifier\n",
    "from sklearn.svm import LinearSVC\n",
    "import seaborn as sns"
   ]
  },
  {
   "cell_type": "code",
   "execution_count": 7,
   "metadata": {},
   "outputs": [],
   "source": [
    "data_folder = \"assignment1/\""
   ]
  },
  {
   "cell_type": "code",
   "execution_count": 1037,
   "metadata": {},
   "outputs": [],
   "source": [
    "#Load Data\n",
    "f = gzip.open(data_folder+\"train.json.gz\", 'r+')\n",
    "d = []\n",
    "for line in f:\n",
    "    value = eval(line)\n",
    "    d.append(value)\n",
    "data=pd.DataFrame(d)"
   ]
  },
  {
   "cell_type": "markdown",
   "metadata": {},
   "source": [
    "# Tasks-Play Prediction"
   ]
  },
  {
   "cell_type": "code",
   "execution_count": 1042,
   "metadata": {},
   "outputs": [],
   "source": [
    "#Train-validation split\n",
    "data = data.sample(frac=1).reset_index(drop=True)\n",
    "train = data.iloc[:165000]\n",
    "validation = data.iloc[165000:175000]"
   ]
  },
  {
   "cell_type": "code",
   "execution_count": 1043,
   "metadata": {},
   "outputs": [],
   "source": [
    "#Create dictionary set of user/game pair indicating which games has each player played or not played\n",
    "played={}\n",
    "not_played={}\n",
    "user_id = train.userID.unique()\n",
    "game_id = train.gameID.unique()\n",
    "\n",
    "for user in user_id:\n",
    "    played[user] = []\n",
    "    not_played[user] = []\n",
    "\n",
    "for x in train.itertuples():\n",
    "    played[x.userID].append(x.gameID)\n",
    "\n",
    "for user in user_id:\n",
    "    not_played[user]= set(game_id) - set(played[user])"
   ]
  },
  {
   "cell_type": "code",
   "execution_count": 1044,
   "metadata": {},
   "outputs": [
    {
     "name": "stderr",
     "output_type": "stream",
     "text": [
      "<ipython-input-1044-e4852ae54243>:2: SettingWithCopyWarning: \n",
      "A value is trying to be set on a copy of a slice from a DataFrame.\n",
      "Try using .loc[row_indexer,col_indexer] = value instead\n",
      "\n",
      "See the caveats in the documentation: https://pandas.pydata.org/pandas-docs/stable/user_guide/indexing.html#returning-a-view-versus-a-copy\n",
      "  validation['played'] = True\n"
     ]
    }
   ],
   "source": [
    "#Create prediction label for validation set\n",
    "validation['played'] = True"
   ]
  },
  {
   "cell_type": "code",
   "execution_count": 1047,
   "metadata": {},
   "outputs": [],
   "source": [
    "#Create negative samples\n",
    "neg=[]\n",
    "for x in validation.itertuples():\n",
    "    neg.append(random.sample(not_played[x.userID],1)[0])\n",
    "    \n",
    "validation_neg = pd.DataFrame()\n",
    "validation_neg['userID'] = validation.userID\n",
    "validation_neg['gameID'] = neg\n",
    "validation_neg['played'] = False\n",
    "\n",
    "validation = pd.concat([validation, validation_neg])"
   ]
  },
  {
   "cell_type": "code",
   "execution_count": 1048,
   "metadata": {},
   "outputs": [],
   "source": [
    "#Create dictionary set of user/game pair indicating which users played each game\n",
    "game_user = {}\n",
    "for g in game_id:\n",
    "    game_user[g] = []\n",
    "\n",
    "for x in train.itertuples():\n",
    "    game_user[x.gameID].append(x.userID)"
   ]
  },
  {
   "cell_type": "markdown",
   "metadata": {},
   "source": [
    "## First let's try using Jaccard Similarity"
   ]
  },
  {
   "cell_type": "code",
   "execution_count": 247,
   "metadata": {},
   "outputs": [],
   "source": [
    "#Define Jaccard similarity\n",
    "def Jaccard(s1, s2):\n",
    "    numer = len(s1.intersection(s2))\n",
    "    denom = len(s1.union(s2))\n",
    "    return numer/denom"
   ]
  },
  {
   "cell_type": "code",
   "execution_count": 1131,
   "metadata": {},
   "outputs": [],
   "source": [
    "#Define algorithm using the Jaccard similarity\n",
    "def jaccard_pred(u, g):\n",
    "    if u not in played.keys():\n",
    "        return 0\n",
    "    g1 = played[u]\n",
    "    if g in g1:\n",
    "        g1.remove(g)\n",
    "    s1 = set(game_user[g])\n",
    "    jmax = 0\n",
    "    for gi in g1:\n",
    "        s2 = set(game_user[gi])\n",
    "        j = Jaccard(s1, s2)\n",
    "        if j > jmax:\n",
    "            jmax = j\n",
    "    return jmax"
   ]
  },
  {
   "cell_type": "code",
   "execution_count": 249,
   "metadata": {},
   "outputs": [
    {
     "name": "stdout",
     "output_type": "stream",
     "text": [
      "96.0 %\n"
     ]
    },
    {
     "data": {
      "text/plain": [
       "{(1.0, 0.01): 0.51935,\n",
       " (1.0, 0.02): 0.61215,\n",
       " (1.0, 0.03): 0.6747,\n",
       " (1.0, 0.04): 0.6463,\n",
       " (1.0, 0.05): 0.5885,\n",
       " (1.5, 0.01): 0.7035,\n",
       " (1.5, 0.02): 0.7061,\n",
       " (1.5, 0.03): 0.69735,\n",
       " (1.5, 0.04): 0.6475,\n",
       " (1.5, 0.05): 0.5872,\n",
       " (2.0, 0.01): 0.6817,\n",
       " (2.0, 0.02): 0.6818,\n",
       " (2.0, 0.03): 0.67735,\n",
       " (2.0, 0.04): 0.6412,\n",
       " (2.0, 0.05): 0.5849,\n",
       " (2.5, 0.01): 0.659,\n",
       " (2.5, 0.02): 0.65895,\n",
       " (2.5, 0.03): 0.6572,\n",
       " (2.5, 0.04): 0.63445,\n",
       " (2.5, 0.05): 0.58365,\n",
       " (3.0, 0.01): 0.6383,\n",
       " (3.0, 0.02): 0.6382,\n",
       " (3.0, 0.03): 0.6369,\n",
       " (3.0, 0.04): 0.6231,\n",
       " (3.0, 0.05): 0.58145}"
      ]
     },
     "execution_count": 249,
     "metadata": {},
     "output_type": "execute_result"
    }
   ],
   "source": [
    "accuracy = {}\n",
    "\n",
    "gameCount = defaultdict(int)\n",
    "totalPlayed = 0\n",
    "\n",
    "for x in train.itertuples():\n",
    "    gameCount[x.gameID] += 1\n",
    "    totalPlayed += 1\n",
    "\n",
    "mostPopular = [(gameCount[x], x) for x in gameCount]\n",
    "mostPopular.sort()\n",
    "mostPopular.reverse()\n",
    "\n",
    "counter = 0\n",
    "for t1 in np.linspace(1,3,5):\n",
    "    return1 = set()\n",
    "    count = 0\n",
    "    \n",
    "    for ic, i in mostPopular:\n",
    "        count += ic\n",
    "        return1.add(i)\n",
    "        if count > totalPlayed/t1: break\n",
    "    \n",
    "    for t2 in np.linspace(0.01,0.05,5):\n",
    "        clear_output(wait=True)\n",
    "        pred = []\n",
    "        for x in validation.itertuples():\n",
    "            if (jaccard_pred(x.userID, x.gameID) > t2) and (x.gameID in return1):\n",
    "                pred.append(True)\n",
    "            else:\n",
    "                pred.append(False)\n",
    "        validation['pred'] = pred\n",
    "        accuracy[(t1,t2)] = (validation.pred == validation.played).sum()/len(validation.played)\n",
    "        print(np.round((counter/25)*100, 2), \"%\")\n",
    "        counter += 1\n",
    "accuracy"
   ]
  },
  {
   "cell_type": "markdown",
   "metadata": {},
   "source": [
    "The best accuracy we got is when we set the threhold of popularity to __1.5__ and the threshold to similarity to __0.02__. This set up gives us an accuracy of __0.7054__."
   ]
  },
  {
   "cell_type": "code",
   "execution_count": 1115,
   "metadata": {},
   "outputs": [],
   "source": [
    "return1 = set()\n",
    "count = 0\n",
    "    \n",
    "for ic, i in mostPopular:\n",
    "    count += ic\n",
    "    return1.add(i)\n",
    "    if count > totalPlayed/1.5: break"
   ]
  },
  {
   "cell_type": "code",
   "execution_count": 1117,
   "metadata": {},
   "outputs": [
    {
     "name": "stdout",
     "output_type": "stream",
     "text": [
      "0.697\n"
     ]
    }
   ],
   "source": [
    "pred = []\n",
    "for x in df.itertuples():\n",
    "    if (x.gameID in return1):\n",
    "        pred.append(True)\n",
    "    else:\n",
    "        pred.append(False)\n",
    "df['pred'] = pred\n",
    "accuracy = (df.pred == df.played).sum()/len(df.played)\n",
    "print(accuracy)"
   ]
  },
  {
   "cell_type": "markdown",
   "metadata": {},
   "source": [
    "## Let's try Euclidean distance"
   ]
  },
  {
   "cell_type": "code",
   "execution_count": 1132,
   "metadata": {},
   "outputs": [],
   "source": [
    "def Euclidean(s1,s2):\n",
    "    return len(s1.union(s2)) - len(s1.intersection(s2))"
   ]
  },
  {
   "cell_type": "code",
   "execution_count": 1136,
   "metadata": {},
   "outputs": [],
   "source": [
    "def Euclidean_pred(u, g):\n",
    "    if u not in played.keys():\n",
    "        return 0\n",
    "    g1 = played[u]\n",
    "    if g in g1:\n",
    "        g1.remove(g)\n",
    "    s1 = set(game_user[g])\n",
    "    jmax = 0\n",
    "    for gi in g1:\n",
    "        s2 = set(game_user[gi])\n",
    "        j = Euclidean(s1, s2)\n",
    "        if j > jmax:\n",
    "            jmax = j\n",
    "    return jmax"
   ]
  },
  {
   "cell_type": "code",
   "execution_count": 1150,
   "metadata": {},
   "outputs": [
    {
     "name": "stdout",
     "output_type": "stream",
     "text": [
      "0.559\n"
     ]
    }
   ],
   "source": [
    "pred = []\n",
    "for x in df.itertuples():\n",
    "    if (Euclidean_pred(x.userID, x.gameID) > 950):\n",
    "        pred.append(True)\n",
    "    else:\n",
    "        pred.append(False)\n",
    "df['pred'] = pred\n",
    "accuracy = (df.pred == df.played).sum()/len(df.played)\n",
    "print(accuracy)"
   ]
  },
  {
   "cell_type": "markdown",
   "metadata": {},
   "source": [
    "## Next up let's try Cosine Similarity"
   ]
  },
  {
   "cell_type": "code",
   "execution_count": 1164,
   "metadata": {},
   "outputs": [
    {
     "name": "stderr",
     "output_type": "stream",
     "text": [
      "<ipython-input-1164-3d39fa07d94c>:4: SettingWithCopyWarning: \n",
      "A value is trying to be set on a copy of a slice from a DataFrame.\n",
      "Try using .loc[row_indexer,col_indexer] = value instead\n",
      "\n",
      "See the caveats in the documentation: https://pandas.pydata.org/pandas-docs/stable/user_guide/indexing.html#returning-a-view-versus-a-copy\n",
      "  temp['played'] = 1\n"
     ]
    }
   ],
   "source": [
    "# We will use an adjusted cosine similarity where we take into consideration of hours played\n",
    "# First we construct a user-game pairwise metrics with hours_transformed as the value.\n",
    "temp = train[['gameID', 'userID']]\n",
    "temp['played'] = 1\n",
    "M = temp.pivot_table(columns='gameID', index='userID',values ='played')"
   ]
  },
  {
   "cell_type": "markdown",
   "metadata": {},
   "source": [
    "### Let's first try a user-based recommendation system"
   ]
  },
  {
   "cell_type": "code",
   "execution_count": 1187,
   "metadata": {},
   "outputs": [],
   "source": [
    "similarity_u = pd.DataFrame(cosine_similarity(\n",
    "    scale(M.fillna(-10000))),\n",
    "    index=M.index,\n",
    "    columns=M.index)"
   ]
  },
  {
   "cell_type": "code",
   "execution_count": 1190,
   "metadata": {},
   "outputs": [],
   "source": [
    "def cosine_pred_u(u,g):\n",
    "    if u not in played.keys():\n",
    "        return 0\n",
    "    u1 = game_user[g]\n",
    "    if u in u1:\n",
    "        u1.remove(u)\n",
    "    sim_max = 0\n",
    "    for ui in u1:\n",
    "        sim = similarity_u[u][ui]\n",
    "        if sim > sim_max:\n",
    "            sim_max = sim\n",
    "    return sim_max"
   ]
  },
  {
   "cell_type": "code",
   "execution_count": 1185,
   "metadata": {},
   "outputs": [],
   "source": [
    "df = validation.sample(frac=1).iloc[:1000]"
   ]
  },
  {
   "cell_type": "code",
   "execution_count": 1186,
   "metadata": {},
   "outputs": [
    {
     "name": "stdout",
     "output_type": "stream",
     "text": [
      "0.7\n"
     ]
    }
   ],
   "source": [
    "pred = []\n",
    "for x in df.itertuples():\n",
    "    if (cosine_pred_u(x.userID, x.gameID) > 0.08) and (x.gameID in return1):\n",
    "        pred.append(True)\n",
    "    else:\n",
    "        pred.append(False)\n",
    "df['pred'] = pred\n",
    "accuracy = (df.pred == df.played).sum()/len(df.played)\n",
    "print(accuracy)"
   ]
  },
  {
   "cell_type": "code",
   "execution_count": 1183,
   "metadata": {},
   "outputs": [
    {
     "name": "stdout",
     "output_type": "stream",
     "text": [
      "0.6938\n"
     ]
    }
   ],
   "source": [
    "pred = []\n",
    "for x in validation.itertuples():\n",
    "    if (cosine_pred(x.userID, x.gameID) > 0.08) and (x.gameID in return1):\n",
    "        pred.append(True)\n",
    "    else:\n",
    "        pred.append(False)\n",
    "validation['pred'] = pred\n",
    "accuracy = (validation.pred == validation.played).sum()/len(validation.played)\n",
    "print(accuracy)"
   ]
  },
  {
   "cell_type": "markdown",
   "metadata": {},
   "source": [
    "### Next let's try item-based system"
   ]
  },
  {
   "cell_type": "code",
   "execution_count": 1191,
   "metadata": {},
   "outputs": [],
   "source": [
    "similarity_i = pd.DataFrame(cosine_similarity(\n",
    "    scale(M.T.fillna(-10000))),\n",
    "    index=M.columns,\n",
    "    columns=M.columns)"
   ]
  },
  {
   "cell_type": "code",
   "execution_count": 1192,
   "metadata": {},
   "outputs": [],
   "source": [
    "def cosine_pred_i(u,g):\n",
    "    if u not in played.keys():\n",
    "        return 0\n",
    "    g1 = played[u]\n",
    "    if g in g1:\n",
    "        g1.remove(g)\n",
    "    sim_max = 0\n",
    "    for gi in g1:\n",
    "        sim = similarity_i[g][gi]\n",
    "        if sim > sim_max:\n",
    "            sim_max = sim\n",
    "    return sim_max"
   ]
  },
  {
   "cell_type": "code",
   "execution_count": 1200,
   "metadata": {},
   "outputs": [
    {
     "name": "stdout",
     "output_type": "stream",
     "text": [
      "0.627\n"
     ]
    }
   ],
   "source": [
    "pred = []\n",
    "for x in df.itertuples():\n",
    "    if (cosine_pred_i(x.userID, x.gameID) > 0.03):\n",
    "        pred.append(True)\n",
    "    else:\n",
    "        pred.append(False)\n",
    "df['pred'] = pred\n",
    "accuracy = (df.pred == df.played).sum()/len(df.played)\n",
    "print(accuracy)"
   ]
  },
  {
   "cell_type": "code",
   "execution_count": null,
   "metadata": {},
   "outputs": [],
   "source": []
  },
  {
   "cell_type": "code",
   "execution_count": 1213,
   "metadata": {},
   "outputs": [
    {
     "name": "stdout",
     "output_type": "stream",
     "text": [
      "0.722\n"
     ]
    }
   ],
   "source": [
    "pred = []\n",
    "for x in df.itertuples():\n",
    "    if (cosine_pred_u(x.userID, x.gameID) > 0.03) and (cosine_pred_i(x.userID, x.gameID) > 0) and (x.gameID in return1):\n",
    "        pred.append(True)\n",
    "    else:\n",
    "        pred.append(False)\n",
    "df['pred'] = pred\n",
    "accuracy = (df.pred == df.played).sum()/len(df.played)\n",
    "print(accuracy)"
   ]
  },
  {
   "cell_type": "code",
   "execution_count": 1214,
   "metadata": {},
   "outputs": [
    {
     "name": "stdout",
     "output_type": "stream",
     "text": [
      "0.70715\n"
     ]
    }
   ],
   "source": [
    "pred = []\n",
    "for x in validation.itertuples():\n",
    "    if (cosine_pred_u(x.userID, x.gameID) > 0.03) and (cosine_pred_i(x.userID, x.gameID) > 0) and (x.gameID in return1):\n",
    "        pred.append(True)\n",
    "    else:\n",
    "        pred.append(False)\n",
    "validation['pred'] = pred\n",
    "accuracy = (validation.pred == validation.played).sum()/len(validation.played)\n",
    "print(accuracy)"
   ]
  },
  {
   "cell_type": "code",
   "execution_count": 1215,
   "metadata": {},
   "outputs": [
    {
     "name": "stdout",
     "output_type": "stream",
     "text": [
      "0.7087\n"
     ]
    }
   ],
   "source": [
    "pred = []\n",
    "for x in validation.itertuples():\n",
    "    if (cosine_pred_u(x.userID, x.gameID) > 0.03) and (cosine_pred_i(x.userID, x.gameID) > 0.02) and (x.gameID in return1):\n",
    "        pred.append(True)\n",
    "    else:\n",
    "        pred.append(False)\n",
    "validation['pred'] = pred\n",
    "accuracy = (validation.pred == validation.played).sum()/len(validation.played)\n",
    "print(accuracy)"
   ]
  },
  {
   "cell_type": "code",
   "execution_count": 1226,
   "metadata": {},
   "outputs": [
    {
     "name": "stdout",
     "output_type": "stream",
     "text": [
      "0.70535\n"
     ]
    }
   ],
   "source": [
    "pred = []\n",
    "for x in validation.itertuples():\n",
    "    if (cosine_pred_u(x.userID, x.gameID) > 0.05) and (cosine_pred_i(x.userID, x.gameID) > 0.02) and (x.gameID in return1):\n",
    "        pred.append(True)\n",
    "    else:\n",
    "        pred.append(False)\n",
    "validation['pred'] = pred\n",
    "accuracy = (validation.pred == validation.played).sum()/len(validation.played)\n",
    "print(accuracy)"
   ]
  },
  {
   "cell_type": "markdown",
   "metadata": {},
   "source": [
    "### Test the system"
   ]
  },
  {
   "cell_type": "code",
   "execution_count": 1218,
   "metadata": {},
   "outputs": [],
   "source": [
    "#Load Dataset\n",
    "test = pd.read_csv(data_folder+\"pairs_Played.txt\", sep=\"-|,\", engine='python')"
   ]
  },
  {
   "cell_type": "code",
   "execution_count": 1219,
   "metadata": {},
   "outputs": [],
   "source": [
    "#Create dictionary set of user/game pair indicating which games has each player played or not played\n",
    "played={}\n",
    "not_played={}\n",
    "user_id = data.userID.unique()\n",
    "game_id = data.gameID.unique()\n",
    "\n",
    "for user in user_id:\n",
    "    played[user] = []\n",
    "    not_played[user] = []\n",
    "\n",
    "for x in data.itertuples():\n",
    "    played[x.userID].append(x.gameID)\n",
    "\n",
    "for user in user_id:\n",
    "    not_played[user]= set(game_id) - set(played[user])"
   ]
  },
  {
   "cell_type": "code",
   "execution_count": 1251,
   "metadata": {},
   "outputs": [],
   "source": [
    "gameCount = defaultdict(int)\n",
    "totalPlayed = 0\n",
    "\n",
    "for x in train.itertuples():\n",
    "    gameCount[x.gameID] += 1\n",
    "    totalPlayed += 1\n",
    "\n",
    "mostPopular = [(gameCount[x], x) for x in gameCount]\n",
    "mostPopular.sort()\n",
    "mostPopular.reverse()\n",
    "\n",
    "return1 = set()\n",
    "count = 0\n",
    "    \n",
    "for ic, i in mostPopular:\n",
    "    count += ic\n",
    "    return1.add(i)\n",
    "    if count > totalPlayed/1.45: break\n",
    "    \n",
    "pred = []\n",
    "for x in test.itertuples():\n",
    "    if (cosine_pred_u(x.userID, x.gameID) > 0.03) and (cosine_pred_i(x.userID, x.gameID) > 0.02) and (x.gameID in return1):\n",
    "        pred.append(1)\n",
    "    else:\n",
    "        pred.append(0)\n",
    "test['prediction'] = pred"
   ]
  },
  {
   "cell_type": "code",
   "execution_count": 1252,
   "metadata": {},
   "outputs": [],
   "source": [
    "predictions = open(\"predictions_Played.txt\", 'w')\n",
    "predictions. truncate(0)\n",
    "predictions.write(\"userID-gameID,prediction\\n\")\n",
    "for x in test.itertuples():\n",
    "    predictions.write(str(x.userID) + '-' + str(x.gameID) + ',' + str(x.prediction) + '\\n')\n",
    "predictions.close()"
   ]
  },
  {
   "cell_type": "code",
   "execution_count": null,
   "metadata": {},
   "outputs": [],
   "source": []
  },
  {
   "cell_type": "code",
   "execution_count": null,
   "metadata": {},
   "outputs": [],
   "source": []
  },
  {
   "cell_type": "markdown",
   "metadata": {},
   "source": [
    "# Tasks-Category Prediction"
   ]
  },
  {
   "cell_type": "code",
   "execution_count": 1253,
   "metadata": {},
   "outputs": [],
   "source": [
    "#Load Data\n",
    "f = gzip.open(data_folder+\"train_Category.json.gz\", 'r+')\n",
    "f.readline()\n",
    "d = []\n",
    "for line in f:\n",
    "    value = eval(line)\n",
    "    d.append(value)\n",
    "data=pd.DataFrame(d)"
   ]
  },
  {
   "cell_type": "code",
   "execution_count": 1254,
   "metadata": {},
   "outputs": [],
   "source": [
    "data = data.sample(frac=1)\n",
    "train = data.iloc[:165000]\n",
    "validation = data.iloc[164999:]"
   ]
  },
  {
   "cell_type": "code",
   "execution_count": 1255,
   "metadata": {},
   "outputs": [
    {
     "data": {
      "text/html": [
       "<div>\n",
       "<style scoped>\n",
       "    .dataframe tbody tr th:only-of-type {\n",
       "        vertical-align: middle;\n",
       "    }\n",
       "\n",
       "    .dataframe tbody tr th {\n",
       "        vertical-align: top;\n",
       "    }\n",
       "\n",
       "    .dataframe thead th {\n",
       "        text-align: right;\n",
       "    }\n",
       "</style>\n",
       "<table border=\"1\" class=\"dataframe\">\n",
       "  <thead>\n",
       "    <tr style=\"text-align: right;\">\n",
       "      <th></th>\n",
       "      <th>userID</th>\n",
       "      <th>genre</th>\n",
       "      <th>early_access</th>\n",
       "      <th>reviewID</th>\n",
       "      <th>hours</th>\n",
       "      <th>text</th>\n",
       "      <th>genreID</th>\n",
       "      <th>date</th>\n",
       "      <th>found_funny</th>\n",
       "      <th>user_id</th>\n",
       "      <th>compensation</th>\n",
       "    </tr>\n",
       "  </thead>\n",
       "  <tbody>\n",
       "    <tr>\n",
       "      <th>10307</th>\n",
       "      <td>u41354608</td>\n",
       "      <td>Action</td>\n",
       "      <td>False</td>\n",
       "      <td>r53783629</td>\n",
       "      <td>8.5</td>\n",
       "      <td>This is a fun and addicting game i can play th...</td>\n",
       "      <td>0</td>\n",
       "      <td>2014-07-21</td>\n",
       "      <td>NaN</td>\n",
       "      <td>NaN</td>\n",
       "      <td>NaN</td>\n",
       "    </tr>\n",
       "    <tr>\n",
       "      <th>17499</th>\n",
       "      <td>u11229669</td>\n",
       "      <td>Action</td>\n",
       "      <td>False</td>\n",
       "      <td>r85716389</td>\n",
       "      <td>30.0</td>\n",
       "      <td>Do you like serious stealth missions? How abou...</td>\n",
       "      <td>0</td>\n",
       "      <td>2016-10-24</td>\n",
       "      <td>NaN</td>\n",
       "      <td>NaN</td>\n",
       "      <td>NaN</td>\n",
       "    </tr>\n",
       "    <tr>\n",
       "      <th>154519</th>\n",
       "      <td>u68749422</td>\n",
       "      <td>Adventure</td>\n",
       "      <td>True</td>\n",
       "      <td>r50479666</td>\n",
       "      <td>0.9</td>\n",
       "      <td>crashed instantly upon starting a new game on ...</td>\n",
       "      <td>3</td>\n",
       "      <td>2016-07-04</td>\n",
       "      <td>1.0</td>\n",
       "      <td>NaN</td>\n",
       "      <td>NaN</td>\n",
       "    </tr>\n",
       "    <tr>\n",
       "      <th>143605</th>\n",
       "      <td>u93175118</td>\n",
       "      <td>Action</td>\n",
       "      <td>False</td>\n",
       "      <td>r46983409</td>\n",
       "      <td>35.3</td>\n",
       "      <td>\" ♥‿♥ \"\\n- Me, after seeing 88-4 is in there</td>\n",
       "      <td>0</td>\n",
       "      <td>2017-12-28</td>\n",
       "      <td>NaN</td>\n",
       "      <td>NaN</td>\n",
       "      <td>NaN</td>\n",
       "    </tr>\n",
       "    <tr>\n",
       "      <th>36934</th>\n",
       "      <td>u33952685</td>\n",
       "      <td>Sports</td>\n",
       "      <td>True</td>\n",
       "      <td>r77471322</td>\n",
       "      <td>5.0</td>\n",
       "      <td>Game is really fun with friends.</td>\n",
       "      <td>4</td>\n",
       "      <td>2017-11-24</td>\n",
       "      <td>NaN</td>\n",
       "      <td>76561198125314015</td>\n",
       "      <td>NaN</td>\n",
       "    </tr>\n",
       "  </tbody>\n",
       "</table>\n",
       "</div>"
      ],
      "text/plain": [
       "           userID      genre  early_access   reviewID  hours  \\\n",
       "10307   u41354608     Action         False  r53783629    8.5   \n",
       "17499   u11229669     Action         False  r85716389   30.0   \n",
       "154519  u68749422  Adventure          True  r50479666    0.9   \n",
       "143605  u93175118     Action         False  r46983409   35.3   \n",
       "36934   u33952685     Sports          True  r77471322    5.0   \n",
       "\n",
       "                                                     text  genreID  \\\n",
       "10307   This is a fun and addicting game i can play th...        0   \n",
       "17499   Do you like serious stealth missions? How abou...        0   \n",
       "154519  crashed instantly upon starting a new game on ...        3   \n",
       "143605       \" ♥‿♥ \"\\n- Me, after seeing 88-4 is in there        0   \n",
       "36934                    Game is really fun with friends.        4   \n",
       "\n",
       "              date  found_funny            user_id compensation  \n",
       "10307   2014-07-21          NaN                NaN          NaN  \n",
       "17499   2016-10-24          NaN                NaN          NaN  \n",
       "154519  2016-07-04          1.0                NaN          NaN  \n",
       "143605  2017-12-28          NaN                NaN          NaN  \n",
       "36934   2017-11-24          NaN  76561198125314015          NaN  "
      ]
     },
     "execution_count": 1255,
     "metadata": {},
     "output_type": "execute_result"
    }
   ],
   "source": [
    "train.head()"
   ]
  },
  {
   "cell_type": "markdown",
   "metadata": {},
   "source": [
    "## Baseline Bag of Words Model"
   ]
  },
  {
   "cell_type": "code",
   "execution_count": 1021,
   "metadata": {},
   "outputs": [],
   "source": [
    "#Build set of all words appeared in the training data\n",
    "wordCount = defaultdict(int)\n",
    "punctuation = set(string.punctuation)\n",
    "for d in train.itertuples():\n",
    "    r = ''.join([c for c in d.text.lower() if not c in punctuation])\n",
    "    for w in r.split():\n",
    "        wordCount[w] += 1"
   ]
  },
  {
   "cell_type": "code",
   "execution_count": null,
   "metadata": {},
   "outputs": [],
   "source": [
    "#Extract the 2500 most common words\n",
    "counts = [(wordCount[w], w) for w in wordCount]\n",
    "counts.sort()\n",
    "counts.reverse()\n",
    "\n",
    "words = [x[1] for x in counts[:3000]]"
   ]
  },
  {
   "cell_type": "code",
   "execution_count": null,
   "metadata": {},
   "outputs": [],
   "source": [
    "#Build Bag of Words\n",
    "wordId = dict(zip(words, range(len(words))))\n",
    "wordSet = set(words)\n",
    "\n",
    "def feature(datum):\n",
    "    feat = [0]*len(words)\n",
    "    r = ''.join([c for c in datum.lower() if not c in punctuation])\n",
    "    for w in r.split():\n",
    "        if w in words:\n",
    "            feat[wordId[w]] += 1\n",
    "    return feat\n",
    "\n",
    "X = [feature(d) for d in train.text]\n",
    "y = train['genreID']"
   ]
  },
  {
   "cell_type": "code",
   "execution_count": null,
   "metadata": {},
   "outputs": [],
   "source": [
    "#Build and fit logistic regression model\n",
    "logreg = LogisticRegression(max_iter=100000, class_weight='balanced', C=2)\n",
    "logreg.fit(X,y)"
   ]
  },
  {
   "cell_type": "code",
   "execution_count": null,
   "metadata": {},
   "outputs": [],
   "source": [
    "#Make predictions and evaludate the performance\n",
    "y_pred = logreg.predict([feature(d) for d in validation.text])\n",
    "acc = (y_pred == validation.genreID).sum()/len(y_pred)\n",
    "print(\"The accuracy of this model on the validation set is \", str(acc))"
   ]
  },
  {
   "cell_type": "markdown",
   "metadata": {},
   "source": [
    "## TFIDF Method"
   ]
  },
  {
   "cell_type": "code",
   "execution_count": 1256,
   "metadata": {},
   "outputs": [
    {
     "data": {
      "text/html": [
       "<div>\n",
       "<style scoped>\n",
       "    .dataframe tbody tr th:only-of-type {\n",
       "        vertical-align: middle;\n",
       "    }\n",
       "\n",
       "    .dataframe tbody tr th {\n",
       "        vertical-align: top;\n",
       "    }\n",
       "\n",
       "    .dataframe thead th {\n",
       "        text-align: right;\n",
       "    }\n",
       "</style>\n",
       "<table border=\"1\" class=\"dataframe\">\n",
       "  <thead>\n",
       "    <tr style=\"text-align: right;\">\n",
       "      <th></th>\n",
       "      <th>userID</th>\n",
       "      <th>genre</th>\n",
       "      <th>early_access</th>\n",
       "      <th>reviewID</th>\n",
       "      <th>hours</th>\n",
       "      <th>text</th>\n",
       "      <th>genreID</th>\n",
       "      <th>date</th>\n",
       "      <th>found_funny</th>\n",
       "      <th>user_id</th>\n",
       "      <th>compensation</th>\n",
       "    </tr>\n",
       "  </thead>\n",
       "  <tbody>\n",
       "    <tr>\n",
       "      <th>10307</th>\n",
       "      <td>u41354608</td>\n",
       "      <td>Action</td>\n",
       "      <td>False</td>\n",
       "      <td>r53783629</td>\n",
       "      <td>8.5</td>\n",
       "      <td>This is a fun and addicting game i can play th...</td>\n",
       "      <td>0</td>\n",
       "      <td>2014-07-21</td>\n",
       "      <td>NaN</td>\n",
       "      <td>NaN</td>\n",
       "      <td>NaN</td>\n",
       "    </tr>\n",
       "    <tr>\n",
       "      <th>17499</th>\n",
       "      <td>u11229669</td>\n",
       "      <td>Action</td>\n",
       "      <td>False</td>\n",
       "      <td>r85716389</td>\n",
       "      <td>30.0</td>\n",
       "      <td>Do you like serious stealth missions? How abou...</td>\n",
       "      <td>0</td>\n",
       "      <td>2016-10-24</td>\n",
       "      <td>NaN</td>\n",
       "      <td>NaN</td>\n",
       "      <td>NaN</td>\n",
       "    </tr>\n",
       "    <tr>\n",
       "      <th>154519</th>\n",
       "      <td>u68749422</td>\n",
       "      <td>Adventure</td>\n",
       "      <td>True</td>\n",
       "      <td>r50479666</td>\n",
       "      <td>0.9</td>\n",
       "      <td>crashed instantly upon starting a new game on ...</td>\n",
       "      <td>3</td>\n",
       "      <td>2016-07-04</td>\n",
       "      <td>1.0</td>\n",
       "      <td>NaN</td>\n",
       "      <td>NaN</td>\n",
       "    </tr>\n",
       "    <tr>\n",
       "      <th>143605</th>\n",
       "      <td>u93175118</td>\n",
       "      <td>Action</td>\n",
       "      <td>False</td>\n",
       "      <td>r46983409</td>\n",
       "      <td>35.3</td>\n",
       "      <td>\" ♥‿♥ \"\\n- Me, after seeing 88-4 is in there</td>\n",
       "      <td>0</td>\n",
       "      <td>2017-12-28</td>\n",
       "      <td>NaN</td>\n",
       "      <td>NaN</td>\n",
       "      <td>NaN</td>\n",
       "    </tr>\n",
       "    <tr>\n",
       "      <th>36934</th>\n",
       "      <td>u33952685</td>\n",
       "      <td>Sports</td>\n",
       "      <td>True</td>\n",
       "      <td>r77471322</td>\n",
       "      <td>5.0</td>\n",
       "      <td>Game is really fun with friends.</td>\n",
       "      <td>4</td>\n",
       "      <td>2017-11-24</td>\n",
       "      <td>NaN</td>\n",
       "      <td>76561198125314015</td>\n",
       "      <td>NaN</td>\n",
       "    </tr>\n",
       "  </tbody>\n",
       "</table>\n",
       "</div>"
      ],
      "text/plain": [
       "           userID      genre  early_access   reviewID  hours  \\\n",
       "10307   u41354608     Action         False  r53783629    8.5   \n",
       "17499   u11229669     Action         False  r85716389   30.0   \n",
       "154519  u68749422  Adventure          True  r50479666    0.9   \n",
       "143605  u93175118     Action         False  r46983409   35.3   \n",
       "36934   u33952685     Sports          True  r77471322    5.0   \n",
       "\n",
       "                                                     text  genreID  \\\n",
       "10307   This is a fun and addicting game i can play th...        0   \n",
       "17499   Do you like serious stealth missions? How abou...        0   \n",
       "154519  crashed instantly upon starting a new game on ...        3   \n",
       "143605       \" ♥‿♥ \"\\n- Me, after seeing 88-4 is in there        0   \n",
       "36934                    Game is really fun with friends.        4   \n",
       "\n",
       "              date  found_funny            user_id compensation  \n",
       "10307   2014-07-21          NaN                NaN          NaN  \n",
       "17499   2016-10-24          NaN                NaN          NaN  \n",
       "154519  2016-07-04          1.0                NaN          NaN  \n",
       "143605  2017-12-28          NaN                NaN          NaN  \n",
       "36934   2017-11-24          NaN  76561198125314015          NaN  "
      ]
     },
     "execution_count": 1256,
     "metadata": {},
     "output_type": "execute_result"
    }
   ],
   "source": [
    "train.head()"
   ]
  },
  {
   "cell_type": "code",
   "execution_count": 1268,
   "metadata": {},
   "outputs": [],
   "source": [
    "genre_dict = {0:\"Action\",1:\"Strategy\",2:\"RPG\",3:\"Adventure\",4:\"Sports\"}"
   ]
  },
  {
   "cell_type": "code",
   "execution_count": 1261,
   "metadata": {},
   "outputs": [
    {
     "data": {
      "text/plain": [
       "(165000, 33671)"
      ]
     },
     "execution_count": 1261,
     "metadata": {},
     "output_type": "execute_result"
    }
   ],
   "source": [
    "tfidf = TfidfVectorizer(sublinear_tf=True, min_df=20, norm='l2', encoding='latin-1', ngram_range=(1, 2), stop_words='english')\n",
    "features = tfidf.fit_transform(train.text).toarray()\n",
    "labels = train.genreID\n",
    "features.shape"
   ]
  },
  {
   "cell_type": "code",
   "execution_count": null,
   "metadata": {},
   "outputs": [
    {
     "name": "stderr",
     "output_type": "stream",
     "text": [
      "C:\\Users\\wangx\\Anaconda3\\lib\\site-packages\\pandas\\core\\ops\\array_ops.py:253: FutureWarning: elementwise comparison failed; returning scalar instead, but in the future will perform elementwise comparison\n",
      "  res_values = method(rvalues)\n"
     ]
    },
    {
     "name": "stdout",
     "output_type": "stream",
     "text": [
      "# '0':\n",
      "  . Most correlated unigrams:\n",
      ". fur\n",
      ". futuristic\n",
      "  . Most correlated bigrams:\n",
      ". game easiest\n",
      ". ﾌﾌ ヽーく\n"
     ]
    },
    {
     "name": "stderr",
     "output_type": "stream",
     "text": [
      "C:\\Users\\wangx\\Anaconda3\\lib\\site-packages\\pandas\\core\\ops\\array_ops.py:253: FutureWarning: elementwise comparison failed; returning scalar instead, but in the future will perform elementwise comparison\n",
      "  res_values = method(rvalues)\n"
     ]
    }
   ],
   "source": [
    "N = 2\n",
    "for genre, genreID in sorted(genre_dict.items()):\n",
    "    features_chi2 = chi2(features, labels == genreID)\n",
    "    indices = np.argsort(features_chi2[0])\n",
    "    feature_names = np.array(tfidf.get_feature_names())[indices]\n",
    "    unigrams = [v for v in feature_names if len(v.split(' ')) == 1]\n",
    "    bigrams = [v for v in feature_names if len(v.split(' ')) == 2]\n",
    "    print(\"# '{}':\".format(genre))\n",
    "    print(\"  . Most correlated unigrams:\\n. {}\".format('\\n. '.join(unigrams[-N:])))\n",
    "    print(\"  . Most correlated bigrams:\\n. {}\".format('\\n. '.join(bigrams[-N:])))"
   ]
  },
  {
   "cell_type": "code",
   "execution_count": null,
   "metadata": {},
   "outputs": [],
   "source": []
  },
  {
   "cell_type": "code",
   "execution_count": 1272,
   "metadata": {},
   "outputs": [],
   "source": [
    "X_train = train.text\n",
    "y_train = train.genreID\n",
    "\n",
    "count_vect = CountVectorizer()\n",
    "X_train_counts = count_vect.fit_transform(X_train)\n",
    "tfidf_transformer = TfidfTransformer()\n",
    "X_train_tfidf = tfidf_transformer.fit_transform(X_train_counts)\n",
    "clf = MultinomialNB().fit(X_train_tfidf, y_train)"
   ]
  },
  {
   "cell_type": "code",
   "execution_count": 1273,
   "metadata": {},
   "outputs": [],
   "source": [
    "X_val = validation.text\n",
    "y_val = validation.genreID"
   ]
  },
  {
   "cell_type": "code",
   "execution_count": 1283,
   "metadata": {},
   "outputs": [],
   "source": [
    "pred = clf.predict(count_vect.transform(X_train))"
   ]
  },
  {
   "cell_type": "code",
   "execution_count": 1284,
   "metadata": {},
   "outputs": [
    {
     "data": {
      "text/plain": [
       "0.5974727272727273"
      ]
     },
     "execution_count": 1284,
     "metadata": {},
     "output_type": "execute_result"
    }
   ],
   "source": [
    "np.sum(pred == y_train)/len(y_train)"
   ]
  },
  {
   "cell_type": "code",
   "execution_count": null,
   "metadata": {},
   "outputs": [],
   "source": [
    "models = [\n",
    "    RandomForestClassifier(n_estimators=200, max_depth=3, random_state=0),\n",
    "    LinearSVC(),\n",
    "    MultinomialNB(),\n",
    "    LogisticRegression(random_state=0),\n",
    "]\n",
    "CV = 5\n",
    "cv_df = pd.DataFrame(index=range(CV * len(models)))\n",
    "entries = []\n",
    "for model in models:\n",
    "    model_name = model.__class__.__name__\n",
    "    accuracies = cross_val_score(model, features, labels, scoring='accuracy', cv=CV)\n",
    "    for fold_idx, accuracy in enumerate(accuracies):\n",
    "        entries.append((model_name, fold_idx, accuracy))\n",
    "cv_df = pd.DataFrame(entries, columns=['model_name', 'fold_idx', 'accuracy'])"
   ]
  },
  {
   "cell_type": "code",
   "execution_count": null,
   "metadata": {},
   "outputs": [],
   "source": [
    "sns.boxplot(x='model_name', y='accuracy', data=cv_df)\n",
    "sns.stripplot(x='model_name', y='accuracy', data=cv_df, \n",
    "              size=8, jitter=True, edgecolor=\"gray\", linewidth=2)\n",
    "plt.show()"
   ]
  },
  {
   "cell_type": "code",
   "execution_count": 1281,
   "metadata": {},
   "outputs": [],
   "source": [
    "#Load test data\n",
    "f = gzip.open(data_folder+\"test_Category.json.gz\", 'r+')\n",
    "d = []\n",
    "for line in f:\n",
    "    value = eval(line)\n",
    "    d.append(value)\n",
    "test=pd.DataFrame(d)"
   ]
  },
  {
   "cell_type": "code",
   "execution_count": 1282,
   "metadata": {},
   "outputs": [
    {
     "data": {
      "text/html": [
       "<div>\n",
       "<style scoped>\n",
       "    .dataframe tbody tr th:only-of-type {\n",
       "        vertical-align: middle;\n",
       "    }\n",
       "\n",
       "    .dataframe tbody tr th {\n",
       "        vertical-align: top;\n",
       "    }\n",
       "\n",
       "    .dataframe thead th {\n",
       "        text-align: right;\n",
       "    }\n",
       "</style>\n",
       "<table border=\"1\" class=\"dataframe\">\n",
       "  <thead>\n",
       "    <tr style=\"text-align: right;\">\n",
       "      <th></th>\n",
       "      <th>hours</th>\n",
       "      <th>early_access</th>\n",
       "      <th>date</th>\n",
       "      <th>reviewID</th>\n",
       "      <th>text</th>\n",
       "      <th>userID</th>\n",
       "      <th>user_id</th>\n",
       "      <th>found_funny</th>\n",
       "      <th>compensation</th>\n",
       "    </tr>\n",
       "  </thead>\n",
       "  <tbody>\n",
       "    <tr>\n",
       "      <th>0</th>\n",
       "      <td>3.2</td>\n",
       "      <td>False</td>\n",
       "      <td>2016-03-17</td>\n",
       "      <td>r23357682</td>\n",
       "      <td>You shouldn't really go into this game looking...</td>\n",
       "      <td>u62606497</td>\n",
       "      <td>NaN</td>\n",
       "      <td>NaN</td>\n",
       "      <td>NaN</td>\n",
       "    </tr>\n",
       "    <tr>\n",
       "      <th>1</th>\n",
       "      <td>10.0</td>\n",
       "      <td>False</td>\n",
       "      <td>2017-01-06</td>\n",
       "      <td>r31389322</td>\n",
       "      <td>The gameplay is nice and all but this game is ...</td>\n",
       "      <td>u14040096</td>\n",
       "      <td>NaN</td>\n",
       "      <td>NaN</td>\n",
       "      <td>NaN</td>\n",
       "    </tr>\n",
       "    <tr>\n",
       "      <th>2</th>\n",
       "      <td>0.5</td>\n",
       "      <td>True</td>\n",
       "      <td>2017-02-25</td>\n",
       "      <td>r11214476</td>\n",
       "      <td>Bought the game yesterday played for about 30 ...</td>\n",
       "      <td>u82387637</td>\n",
       "      <td>76561198077879453</td>\n",
       "      <td>NaN</td>\n",
       "      <td>NaN</td>\n",
       "    </tr>\n",
       "    <tr>\n",
       "      <th>3</th>\n",
       "      <td>15.5</td>\n",
       "      <td>False</td>\n",
       "      <td>2014-08-29</td>\n",
       "      <td>r99452955</td>\n",
       "      <td>There's a very important lesson that MW2 teach...</td>\n",
       "      <td>u85959755</td>\n",
       "      <td>NaN</td>\n",
       "      <td>151.0</td>\n",
       "      <td>NaN</td>\n",
       "    </tr>\n",
       "    <tr>\n",
       "      <th>4</th>\n",
       "      <td>9.1</td>\n",
       "      <td>False</td>\n",
       "      <td>2013-12-02</td>\n",
       "      <td>r15626239</td>\n",
       "      <td>An extremely gorgeous and breathtaking experie...</td>\n",
       "      <td>u20275739</td>\n",
       "      <td>NaN</td>\n",
       "      <td>NaN</td>\n",
       "      <td>NaN</td>\n",
       "    </tr>\n",
       "  </tbody>\n",
       "</table>\n",
       "</div>"
      ],
      "text/plain": [
       "   hours  early_access        date   reviewID  \\\n",
       "0    3.2         False  2016-03-17  r23357682   \n",
       "1   10.0         False  2017-01-06  r31389322   \n",
       "2    0.5          True  2017-02-25  r11214476   \n",
       "3   15.5         False  2014-08-29  r99452955   \n",
       "4    9.1         False  2013-12-02  r15626239   \n",
       "\n",
       "                                                text     userID  \\\n",
       "0  You shouldn't really go into this game looking...  u62606497   \n",
       "1  The gameplay is nice and all but this game is ...  u14040096   \n",
       "2  Bought the game yesterday played for about 30 ...  u82387637   \n",
       "3  There's a very important lesson that MW2 teach...  u85959755   \n",
       "4  An extremely gorgeous and breathtaking experie...  u20275739   \n",
       "\n",
       "             user_id  found_funny compensation  \n",
       "0                NaN          NaN          NaN  \n",
       "1                NaN          NaN          NaN  \n",
       "2  76561198077879453          NaN          NaN  \n",
       "3                NaN        151.0          NaN  \n",
       "4                NaN          NaN          NaN  "
      ]
     },
     "execution_count": 1282,
     "metadata": {},
     "output_type": "execute_result"
    }
   ],
   "source": [
    "test.head()"
   ]
  },
  {
   "cell_type": "code",
   "execution_count": null,
   "metadata": {},
   "outputs": [],
   "source": []
  }
 ],
 "metadata": {
  "kernelspec": {
   "display_name": "Python 3",
   "language": "python",
   "name": "python3"
  },
  "language_info": {
   "codemirror_mode": {
    "name": "ipython",
    "version": 3
   },
   "file_extension": ".py",
   "mimetype": "text/x-python",
   "name": "python",
   "nbconvert_exporter": "python",
   "pygments_lexer": "ipython3",
   "version": "3.8.3"
  }
 },
 "nbformat": 4,
 "nbformat_minor": 4
}
